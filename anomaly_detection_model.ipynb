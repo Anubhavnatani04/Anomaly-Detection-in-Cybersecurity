{
 "cells": [
  {
   "cell_type": "markdown",
   "metadata": {},
   "source": [
    "### Import relevant libraries"
   ]
  },
  {
   "cell_type": "code",
   "execution_count": 25,
   "metadata": {},
   "outputs": [],
   "source": [
    "from sklearn.model_selection import train_test_split\n",
    "from tensorflow.keras.models import Sequential\n",
    "from tensorflow.keras.layers import Dense, Dropout\n",
    "from tensorflow.keras.utils import to_categorical\n",
    "from preprocessing_module import preprocess_all"
   ]
  },
  {
   "cell_type": "code",
   "execution_count": 26,
   "metadata": {},
   "outputs": [],
   "source": [
    "x_processed, y_processed= preprocess_all('KDDTrain+.txt')"
   ]
  },
  {
   "cell_type": "code",
   "execution_count": 27,
   "metadata": {},
   "outputs": [],
   "source": [
    "x_train, x_test, y_train, y_test = train_test_split(x_processed, y_processed, test_size=0.2, random_state=32)"
   ]
  },
  {
   "cell_type": "code",
   "execution_count": 28,
   "metadata": {},
   "outputs": [],
   "source": [
    "model = Sequential()\n",
    "\n",
    "# Add input layer and hidden layers\n",
    "model.add(Dense(64, input_shape=(x_train.shape[1],), activation='relu'))\n",
    "model.add(Dropout(0.2))  # Dropout layer to prevent overfitting\n",
    "model.add(Dense(32, activation='relu'))\n",
    "model.add(Dense(16, activation='relu'))\n",
    "model.add(Dense(8, activation='relu'))\n",
    "# Add output layer\n",
    "model.add(Dense(y_train.shape[1], activation='softmax'))  # Softmax for multiclass classification\n"
   ]
  },
  {
   "cell_type": "code",
   "execution_count": 29,
   "metadata": {},
   "outputs": [],
   "source": [
    "\n",
    "# Compile the model\n",
    "model.compile(optimizer='adam', loss='categorical_crossentropy', metrics=['accuracy'])\n"
   ]
  },
  {
   "cell_type": "code",
   "execution_count": 30,
   "metadata": {},
   "outputs": [
    {
     "name": "stdout",
     "output_type": "stream",
     "text": [
      "Epoch 1/10\n",
      "6299/6299 [==============================] - 9s 1ms/step - loss: 0.1103 - accuracy: 0.9707 - val_loss: 0.0387 - val_accuracy: 0.9901\n",
      "Epoch 2/10\n",
      "6299/6299 [==============================] - 7s 1ms/step - loss: 0.0375 - accuracy: 0.9887 - val_loss: 0.0274 - val_accuracy: 0.9932\n",
      "Epoch 3/10\n",
      "6299/6299 [==============================] - 7s 1ms/step - loss: 0.0312 - accuracy: 0.9904 - val_loss: 0.0266 - val_accuracy: 0.9942\n",
      "Epoch 4/10\n",
      "6299/6299 [==============================] - 7s 1ms/step - loss: 0.0277 - accuracy: 0.9914 - val_loss: 0.0259 - val_accuracy: 0.9923\n",
      "Epoch 5/10\n",
      "6299/6299 [==============================] - 7s 1ms/step - loss: 0.0258 - accuracy: 0.9920 - val_loss: 0.0246 - val_accuracy: 0.9914\n",
      "Epoch 6/10\n",
      "6299/6299 [==============================] - 7s 1ms/step - loss: 0.0235 - accuracy: 0.9925 - val_loss: 0.0287 - val_accuracy: 0.9915\n",
      "Epoch 7/10\n",
      "6299/6299 [==============================] - 7s 1ms/step - loss: 0.0230 - accuracy: 0.9929 - val_loss: 0.0233 - val_accuracy: 0.9916\n",
      "Epoch 8/10\n",
      "6299/6299 [==============================] - 7s 1ms/step - loss: 0.0211 - accuracy: 0.9932 - val_loss: 0.0161 - val_accuracy: 0.9950\n",
      "Epoch 9/10\n",
      "6299/6299 [==============================] - 7s 1ms/step - loss: 0.0204 - accuracy: 0.9939 - val_loss: 0.0210 - val_accuracy: 0.9937\n",
      "Epoch 10/10\n",
      "6299/6299 [==============================] - 8s 1ms/step - loss: 0.0202 - accuracy: 0.9935 - val_loss: 0.0168 - val_accuracy: 0.9951\n"
     ]
    }
   ],
   "source": [
    "\n",
    "# Train the model\n",
    "history = model.fit(x_train, y_train, epochs=10, batch_size=16, validation_data=(x_test, y_test))\n"
   ]
  },
  {
   "cell_type": "code",
   "execution_count": 31,
   "metadata": {},
   "outputs": [
    {
     "name": "stdout",
     "output_type": "stream",
     "text": [
      "788/788 [==============================] - 1s 749us/step - loss: 0.0168 - accuracy: 0.9951\n",
      "Test Accuracy: 99.5118%\n"
     ]
    }
   ],
   "source": [
    "\n",
    "# Evaluate the model\n",
    "loss, accuracy = model.evaluate(x_test, y_test)\n",
    "print(f\"Test Accuracy: {accuracy*100:.4f}%\")"
   ]
  }
 ],
 "metadata": {
  "kernelspec": {
   "display_name": "base",
   "language": "python",
   "name": "python3"
  },
  "language_info": {
   "codemirror_mode": {
    "name": "ipython",
    "version": 3
   },
   "file_extension": ".py",
   "mimetype": "text/x-python",
   "name": "python",
   "nbconvert_exporter": "python",
   "pygments_lexer": "ipython3",
   "version": "3.10.9"
  }
 },
 "nbformat": 4,
 "nbformat_minor": 2
}
